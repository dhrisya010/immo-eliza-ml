{
 "cells": [
  {
   "cell_type": "code",
   "execution_count": 1,
   "metadata": {},
   "outputs": [],
   "source": [
    "import pandas as pd\n",
    "from matplotlib import pyplot as plt"
   ]
  },
  {
   "cell_type": "code",
   "execution_count": 2,
   "metadata": {},
   "outputs": [
    {
     "data": {
      "text/plain": [
       "Index(['id', 'price', 'property_type', 'subproperty_type', 'region',\n",
       "       'province', 'locality', 'zip_code', 'latitude', 'longitude',\n",
       "       'construction_year', 'total_area_sqm', 'surface_land_sqm',\n",
       "       'nbr_frontages', 'nbr_bedrooms', 'equipped_kitchen', 'fl_furnished',\n",
       "       'fl_open_fire', 'fl_terrace', 'terrace_sqm', 'fl_garden', 'garden_sqm',\n",
       "       'fl_swimming_pool', 'fl_floodzone', 'state_building',\n",
       "       'primary_energy_consumption_sqm', 'epc', 'heating_type',\n",
       "       'fl_double_glazing', 'cadastral_income'],\n",
       "      dtype='object')"
      ]
     },
     "execution_count": 2,
     "metadata": {},
     "output_type": "execute_result"
    }
   ],
   "source": [
    "filename = \"D:\\\\BeCode\\\\Projects\\\\immo-eliza-ml\\\\properties.csv\"\n",
    "df = pd.read_csv(filename)\n",
    "df.columns"
   ]
  },
  {
   "cell_type": "code",
   "execution_count": 3,
   "metadata": {},
   "outputs": [],
   "source": [
    "import pandas as pd\n",
    "import numpy as np\n",
    "\n",
    "filename = \"D:\\\\BeCode\\\\Projects\\\\immo-eliza-ml\\\\properties.csv\"\n",
    "df = pd.read_csv(filename)\n",
    "\n",
    "# Remove duplicates\n",
    "df = df.drop_duplicates()\n",
    "\n",
    "# Remove white spaces  (leading, trailing, or extra spaces between words)\n",
    "df = df.apply(lambda x: x.str.strip().str.replace('\\s+', ' ', regex=True) if x.dtype == \"object\" else x)\n",
    "\n",
    "# fill None when the value is empty\n",
    "#df = df.fillna('NaN')\n",
    "\n",
    "# Ensure the 'price' column contains only numeric values, setting non-numeric entries to NaN\n",
    "if 'price' in df.columns:\n",
    "    df['price'] = pd.to_numeric(df['price'], errors='coerce')\n",
    "\n",
    "# Save the cleaned data to a new CSV file\n",
    "#cleaned_file_path = 'cleaned_properties.csv'\n",
    "#df.to_csv(cleaned_file_path, index=False)\n"
   ]
  },
  {
   "cell_type": "code",
   "execution_count": 4,
   "metadata": {},
   "outputs": [
    {
     "data": {
      "text/html": [
       "<div>\n",
       "<style scoped>\n",
       "    .dataframe tbody tr th:only-of-type {\n",
       "        vertical-align: middle;\n",
       "    }\n",
       "\n",
       "    .dataframe tbody tr th {\n",
       "        vertical-align: top;\n",
       "    }\n",
       "\n",
       "    .dataframe thead th {\n",
       "        text-align: right;\n",
       "    }\n",
       "</style>\n",
       "<table border=\"1\" class=\"dataframe\">\n",
       "  <thead>\n",
       "    <tr style=\"text-align: right;\">\n",
       "      <th></th>\n",
       "      <th>id</th>\n",
       "      <th>price</th>\n",
       "      <th>property_type</th>\n",
       "      <th>subproperty_type</th>\n",
       "      <th>region</th>\n",
       "      <th>province</th>\n",
       "      <th>locality</th>\n",
       "      <th>zip_code</th>\n",
       "      <th>latitude</th>\n",
       "      <th>longitude</th>\n",
       "      <th>...</th>\n",
       "      <th>fl_garden</th>\n",
       "      <th>garden_sqm</th>\n",
       "      <th>fl_swimming_pool</th>\n",
       "      <th>fl_floodzone</th>\n",
       "      <th>state_building</th>\n",
       "      <th>primary_energy_consumption_sqm</th>\n",
       "      <th>epc</th>\n",
       "      <th>heating_type</th>\n",
       "      <th>fl_double_glazing</th>\n",
       "      <th>cadastral_income</th>\n",
       "    </tr>\n",
       "  </thead>\n",
       "  <tbody>\n",
       "    <tr>\n",
       "      <th>0</th>\n",
       "      <td>34221000</td>\n",
       "      <td>225000.0</td>\n",
       "      <td>APARTMENT</td>\n",
       "      <td>APARTMENT</td>\n",
       "      <td>Flanders</td>\n",
       "      <td>Antwerp</td>\n",
       "      <td>Antwerp</td>\n",
       "      <td>2050</td>\n",
       "      <td>51.217172</td>\n",
       "      <td>4.379982</td>\n",
       "      <td>...</td>\n",
       "      <td>0</td>\n",
       "      <td>0.0</td>\n",
       "      <td>0</td>\n",
       "      <td>0</td>\n",
       "      <td>MISSING</td>\n",
       "      <td>231.0</td>\n",
       "      <td>C</td>\n",
       "      <td>GAS</td>\n",
       "      <td>1</td>\n",
       "      <td>922.0</td>\n",
       "    </tr>\n",
       "    <tr>\n",
       "      <th>1</th>\n",
       "      <td>2104000</td>\n",
       "      <td>449000.0</td>\n",
       "      <td>HOUSE</td>\n",
       "      <td>HOUSE</td>\n",
       "      <td>Flanders</td>\n",
       "      <td>East Flanders</td>\n",
       "      <td>Gent</td>\n",
       "      <td>9185</td>\n",
       "      <td>51.174944</td>\n",
       "      <td>3.845248</td>\n",
       "      <td>...</td>\n",
       "      <td>0</td>\n",
       "      <td>0.0</td>\n",
       "      <td>0</td>\n",
       "      <td>0</td>\n",
       "      <td>MISSING</td>\n",
       "      <td>221.0</td>\n",
       "      <td>C</td>\n",
       "      <td>MISSING</td>\n",
       "      <td>1</td>\n",
       "      <td>406.0</td>\n",
       "    </tr>\n",
       "    <tr>\n",
       "      <th>2</th>\n",
       "      <td>34036000</td>\n",
       "      <td>335000.0</td>\n",
       "      <td>APARTMENT</td>\n",
       "      <td>APARTMENT</td>\n",
       "      <td>Brussels-Capital</td>\n",
       "      <td>Brussels</td>\n",
       "      <td>Brussels</td>\n",
       "      <td>1070</td>\n",
       "      <td>50.842043</td>\n",
       "      <td>4.334543</td>\n",
       "      <td>...</td>\n",
       "      <td>0</td>\n",
       "      <td>0.0</td>\n",
       "      <td>0</td>\n",
       "      <td>1</td>\n",
       "      <td>AS_NEW</td>\n",
       "      <td>NaN</td>\n",
       "      <td>MISSING</td>\n",
       "      <td>GAS</td>\n",
       "      <td>0</td>\n",
       "      <td>NaN</td>\n",
       "    </tr>\n",
       "    <tr>\n",
       "      <th>3</th>\n",
       "      <td>58496000</td>\n",
       "      <td>501000.0</td>\n",
       "      <td>HOUSE</td>\n",
       "      <td>HOUSE</td>\n",
       "      <td>Flanders</td>\n",
       "      <td>Antwerp</td>\n",
       "      <td>Turnhout</td>\n",
       "      <td>2275</td>\n",
       "      <td>51.238312</td>\n",
       "      <td>4.817192</td>\n",
       "      <td>...</td>\n",
       "      <td>0</td>\n",
       "      <td>0.0</td>\n",
       "      <td>0</td>\n",
       "      <td>1</td>\n",
       "      <td>MISSING</td>\n",
       "      <td>99.0</td>\n",
       "      <td>A</td>\n",
       "      <td>MISSING</td>\n",
       "      <td>0</td>\n",
       "      <td>NaN</td>\n",
       "    </tr>\n",
       "    <tr>\n",
       "      <th>4</th>\n",
       "      <td>48727000</td>\n",
       "      <td>982700.0</td>\n",
       "      <td>APARTMENT</td>\n",
       "      <td>DUPLEX</td>\n",
       "      <td>Wallonia</td>\n",
       "      <td>Walloon Brabant</td>\n",
       "      <td>Nivelles</td>\n",
       "      <td>1410</td>\n",
       "      <td>NaN</td>\n",
       "      <td>NaN</td>\n",
       "      <td>...</td>\n",
       "      <td>1</td>\n",
       "      <td>142.0</td>\n",
       "      <td>0</td>\n",
       "      <td>0</td>\n",
       "      <td>AS_NEW</td>\n",
       "      <td>19.0</td>\n",
       "      <td>A+</td>\n",
       "      <td>GAS</td>\n",
       "      <td>0</td>\n",
       "      <td>NaN</td>\n",
       "    </tr>\n",
       "  </tbody>\n",
       "</table>\n",
       "<p>5 rows × 30 columns</p>\n",
       "</div>"
      ],
      "text/plain": [
       "         id     price property_type subproperty_type            region  \\\n",
       "0  34221000  225000.0     APARTMENT        APARTMENT          Flanders   \n",
       "1   2104000  449000.0         HOUSE            HOUSE          Flanders   \n",
       "2  34036000  335000.0     APARTMENT        APARTMENT  Brussels-Capital   \n",
       "3  58496000  501000.0         HOUSE            HOUSE          Flanders   \n",
       "4  48727000  982700.0     APARTMENT           DUPLEX          Wallonia   \n",
       "\n",
       "          province  locality  zip_code   latitude  longitude  ...  fl_garden  \\\n",
       "0          Antwerp   Antwerp      2050  51.217172   4.379982  ...          0   \n",
       "1    East Flanders      Gent      9185  51.174944   3.845248  ...          0   \n",
       "2         Brussels  Brussels      1070  50.842043   4.334543  ...          0   \n",
       "3          Antwerp  Turnhout      2275  51.238312   4.817192  ...          0   \n",
       "4  Walloon Brabant  Nivelles      1410        NaN        NaN  ...          1   \n",
       "\n",
       "   garden_sqm  fl_swimming_pool  fl_floodzone  state_building  \\\n",
       "0         0.0                 0             0         MISSING   \n",
       "1         0.0                 0             0         MISSING   \n",
       "2         0.0                 0             1          AS_NEW   \n",
       "3         0.0                 0             1         MISSING   \n",
       "4       142.0                 0             0          AS_NEW   \n",
       "\n",
       "  primary_energy_consumption_sqm      epc  heating_type  fl_double_glazing  \\\n",
       "0                          231.0        C           GAS                  1   \n",
       "1                          221.0        C       MISSING                  1   \n",
       "2                            NaN  MISSING           GAS                  0   \n",
       "3                           99.0        A       MISSING                  0   \n",
       "4                           19.0       A+           GAS                  0   \n",
       "\n",
       "   cadastral_income  \n",
       "0             922.0  \n",
       "1             406.0  \n",
       "2               NaN  \n",
       "3               NaN  \n",
       "4               NaN  \n",
       "\n",
       "[5 rows x 30 columns]"
      ]
     },
     "execution_count": 4,
     "metadata": {},
     "output_type": "execute_result"
    }
   ],
   "source": [
    "df.head()"
   ]
  },
  {
   "cell_type": "code",
   "execution_count": 5,
   "metadata": {},
   "outputs": [
    {
     "data": {
      "text/plain": [
       "id                                  int64\n",
       "price                             float64\n",
       "property_type                      object\n",
       "subproperty_type                   object\n",
       "region                             object\n",
       "province                           object\n",
       "locality                           object\n",
       "zip_code                            int64\n",
       "latitude                          float64\n",
       "longitude                         float64\n",
       "construction_year                 float64\n",
       "total_area_sqm                    float64\n",
       "surface_land_sqm                  float64\n",
       "nbr_frontages                     float64\n",
       "nbr_bedrooms                      float64\n",
       "equipped_kitchen                   object\n",
       "fl_furnished                        int64\n",
       "fl_open_fire                        int64\n",
       "fl_terrace                          int64\n",
       "terrace_sqm                       float64\n",
       "fl_garden                           int64\n",
       "garden_sqm                        float64\n",
       "fl_swimming_pool                    int64\n",
       "fl_floodzone                        int64\n",
       "state_building                     object\n",
       "primary_energy_consumption_sqm    float64\n",
       "epc                                object\n",
       "heating_type                       object\n",
       "fl_double_glazing                   int64\n",
       "cadastral_income                  float64\n",
       "dtype: object"
      ]
     },
     "execution_count": 5,
     "metadata": {},
     "output_type": "execute_result"
    }
   ],
   "source": [
    "df.dtypes"
   ]
  },
  {
   "cell_type": "code",
   "execution_count": 6,
   "metadata": {},
   "outputs": [
    {
     "name": "stdout",
     "output_type": "stream",
     "text": [
      "Count NaN values of column wise:\n",
      " id                                    0\n",
      "price                                 0\n",
      "property_type                         0\n",
      "subproperty_type                      0\n",
      "region                                0\n",
      "province                              0\n",
      "locality                              0\n",
      "zip_code                              0\n",
      "latitude                          14098\n",
      "longitude                         14098\n",
      "construction_year                 33391\n",
      "total_area_sqm                     7615\n",
      "surface_land_sqm                  36256\n",
      "nbr_frontages                     26346\n",
      "nbr_bedrooms                          0\n",
      "equipped_kitchen                      0\n",
      "fl_furnished                          0\n",
      "fl_open_fire                          0\n",
      "fl_terrace                            0\n",
      "terrace_sqm                       13140\n",
      "fl_garden                             0\n",
      "garden_sqm                         2939\n",
      "fl_swimming_pool                      0\n",
      "fl_floodzone                          0\n",
      "state_building                        0\n",
      "primary_energy_consumption_sqm    26567\n",
      "epc                                   0\n",
      "heating_type                          0\n",
      "fl_double_glazing                     0\n",
      "cadastral_income                  44967\n",
      "dtype: int64\n"
     ]
    }
   ],
   "source": [
    "nan_count = df.isna().sum()\n",
    "print(\"Count NaN values of column wise:\\n\", nan_count)"
   ]
  },
  {
   "cell_type": "code",
   "execution_count": 7,
   "metadata": {},
   "outputs": [],
   "source": [
    "# List of columns you want to drop\n",
    "columns_to_drop = ['id', 'locality','province','subproperty_type','nbr_frontages', 'cadastral_income', 'epc', 'surface_land_sqm','fl_terrace','fl_garden','latitude','longitude']\n",
    "\n",
    "# Drop columns if they exist in the DataFrame\n",
    "df.drop(columns=[col for col in columns_to_drop if col in df.columns], inplace=True)"
   ]
  },
  {
   "cell_type": "code",
   "execution_count": 8,
   "metadata": {},
   "outputs": [
    {
     "data": {
      "text/plain": [
       "Index(['price', 'property_type', 'region', 'zip_code', 'construction_year',\n",
       "       'total_area_sqm', 'nbr_bedrooms', 'equipped_kitchen', 'fl_furnished',\n",
       "       'fl_open_fire', 'terrace_sqm', 'garden_sqm', 'fl_swimming_pool',\n",
       "       'fl_floodzone', 'state_building', 'primary_energy_consumption_sqm',\n",
       "       'heating_type', 'fl_double_glazing'],\n",
       "      dtype='object')"
      ]
     },
     "execution_count": 8,
     "metadata": {},
     "output_type": "execute_result"
    }
   ],
   "source": [
    "df.columns"
   ]
  },
  {
   "cell_type": "code",
   "execution_count": 9,
   "metadata": {},
   "outputs": [
    {
     "data": {
      "text/plain": [
       "price                             float64\n",
       "property_type                      object\n",
       "region                             object\n",
       "zip_code                            int64\n",
       "construction_year                 float64\n",
       "total_area_sqm                    float64\n",
       "nbr_bedrooms                      float64\n",
       "equipped_kitchen                   object\n",
       "fl_furnished                        int64\n",
       "fl_open_fire                        int64\n",
       "terrace_sqm                       float64\n",
       "garden_sqm                        float64\n",
       "fl_swimming_pool                    int64\n",
       "fl_floodzone                        int64\n",
       "state_building                     object\n",
       "primary_energy_consumption_sqm    float64\n",
       "heating_type                       object\n",
       "fl_double_glazing                   int64\n",
       "dtype: object"
      ]
     },
     "execution_count": 9,
     "metadata": {},
     "output_type": "execute_result"
    }
   ],
   "source": [
    "df.dtypes"
   ]
  },
  {
   "cell_type": "code",
   "execution_count": 10,
   "metadata": {},
   "outputs": [
    {
     "data": {
      "text/html": [
       "<div>\n",
       "<style scoped>\n",
       "    .dataframe tbody tr th:only-of-type {\n",
       "        vertical-align: middle;\n",
       "    }\n",
       "\n",
       "    .dataframe tbody tr th {\n",
       "        vertical-align: top;\n",
       "    }\n",
       "\n",
       "    .dataframe thead th {\n",
       "        text-align: right;\n",
       "    }\n",
       "</style>\n",
       "<table border=\"1\" class=\"dataframe\">\n",
       "  <thead>\n",
       "    <tr style=\"text-align: right;\">\n",
       "      <th></th>\n",
       "      <th>price</th>\n",
       "      <th>property_type</th>\n",
       "      <th>region</th>\n",
       "      <th>zip_code</th>\n",
       "      <th>construction_year</th>\n",
       "      <th>total_area_sqm</th>\n",
       "      <th>nbr_bedrooms</th>\n",
       "      <th>equipped_kitchen</th>\n",
       "      <th>fl_furnished</th>\n",
       "      <th>fl_open_fire</th>\n",
       "      <th>terrace_sqm</th>\n",
       "      <th>garden_sqm</th>\n",
       "      <th>fl_swimming_pool</th>\n",
       "      <th>fl_floodzone</th>\n",
       "      <th>state_building</th>\n",
       "      <th>primary_energy_consumption_sqm</th>\n",
       "      <th>heating_type</th>\n",
       "      <th>fl_double_glazing</th>\n",
       "    </tr>\n",
       "  </thead>\n",
       "  <tbody>\n",
       "    <tr>\n",
       "      <th>0</th>\n",
       "      <td>225000.0</td>\n",
       "      <td>APARTMENT</td>\n",
       "      <td>Flanders</td>\n",
       "      <td>2050</td>\n",
       "      <td>1963.0</td>\n",
       "      <td>100.0</td>\n",
       "      <td>2.0</td>\n",
       "      <td>INSTALLED</td>\n",
       "      <td>0</td>\n",
       "      <td>0</td>\n",
       "      <td>5.0</td>\n",
       "      <td>0.0</td>\n",
       "      <td>0</td>\n",
       "      <td>0</td>\n",
       "      <td>MISSING</td>\n",
       "      <td>231.0</td>\n",
       "      <td>GAS</td>\n",
       "      <td>1</td>\n",
       "    </tr>\n",
       "    <tr>\n",
       "      <th>1</th>\n",
       "      <td>449000.0</td>\n",
       "      <td>HOUSE</td>\n",
       "      <td>Flanders</td>\n",
       "      <td>9185</td>\n",
       "      <td>NaN</td>\n",
       "      <td>NaN</td>\n",
       "      <td>2.0</td>\n",
       "      <td>MISSING</td>\n",
       "      <td>0</td>\n",
       "      <td>0</td>\n",
       "      <td>0.0</td>\n",
       "      <td>0.0</td>\n",
       "      <td>0</td>\n",
       "      <td>0</td>\n",
       "      <td>MISSING</td>\n",
       "      <td>221.0</td>\n",
       "      <td>MISSING</td>\n",
       "      <td>1</td>\n",
       "    </tr>\n",
       "    <tr>\n",
       "      <th>2</th>\n",
       "      <td>335000.0</td>\n",
       "      <td>APARTMENT</td>\n",
       "      <td>Brussels-Capital</td>\n",
       "      <td>1070</td>\n",
       "      <td>NaN</td>\n",
       "      <td>142.0</td>\n",
       "      <td>3.0</td>\n",
       "      <td>INSTALLED</td>\n",
       "      <td>0</td>\n",
       "      <td>0</td>\n",
       "      <td>NaN</td>\n",
       "      <td>0.0</td>\n",
       "      <td>0</td>\n",
       "      <td>1</td>\n",
       "      <td>AS_NEW</td>\n",
       "      <td>NaN</td>\n",
       "      <td>GAS</td>\n",
       "      <td>0</td>\n",
       "    </tr>\n",
       "    <tr>\n",
       "      <th>3</th>\n",
       "      <td>501000.0</td>\n",
       "      <td>HOUSE</td>\n",
       "      <td>Flanders</td>\n",
       "      <td>2275</td>\n",
       "      <td>2024.0</td>\n",
       "      <td>187.0</td>\n",
       "      <td>3.0</td>\n",
       "      <td>MISSING</td>\n",
       "      <td>0</td>\n",
       "      <td>0</td>\n",
       "      <td>0.0</td>\n",
       "      <td>0.0</td>\n",
       "      <td>0</td>\n",
       "      <td>1</td>\n",
       "      <td>MISSING</td>\n",
       "      <td>99.0</td>\n",
       "      <td>MISSING</td>\n",
       "      <td>0</td>\n",
       "    </tr>\n",
       "    <tr>\n",
       "      <th>4</th>\n",
       "      <td>982700.0</td>\n",
       "      <td>APARTMENT</td>\n",
       "      <td>Wallonia</td>\n",
       "      <td>1410</td>\n",
       "      <td>2022.0</td>\n",
       "      <td>169.0</td>\n",
       "      <td>2.0</td>\n",
       "      <td>HYPER_EQUIPPED</td>\n",
       "      <td>0</td>\n",
       "      <td>0</td>\n",
       "      <td>20.0</td>\n",
       "      <td>142.0</td>\n",
       "      <td>0</td>\n",
       "      <td>0</td>\n",
       "      <td>AS_NEW</td>\n",
       "      <td>19.0</td>\n",
       "      <td>GAS</td>\n",
       "      <td>0</td>\n",
       "    </tr>\n",
       "  </tbody>\n",
       "</table>\n",
       "</div>"
      ],
      "text/plain": [
       "      price property_type            region  zip_code  construction_year  \\\n",
       "0  225000.0     APARTMENT          Flanders      2050             1963.0   \n",
       "1  449000.0         HOUSE          Flanders      9185                NaN   \n",
       "2  335000.0     APARTMENT  Brussels-Capital      1070                NaN   \n",
       "3  501000.0         HOUSE          Flanders      2275             2024.0   \n",
       "4  982700.0     APARTMENT          Wallonia      1410             2022.0   \n",
       "\n",
       "   total_area_sqm  nbr_bedrooms equipped_kitchen  fl_furnished  fl_open_fire  \\\n",
       "0           100.0           2.0        INSTALLED             0             0   \n",
       "1             NaN           2.0          MISSING             0             0   \n",
       "2           142.0           3.0        INSTALLED             0             0   \n",
       "3           187.0           3.0          MISSING             0             0   \n",
       "4           169.0           2.0   HYPER_EQUIPPED             0             0   \n",
       "\n",
       "   terrace_sqm  garden_sqm  fl_swimming_pool  fl_floodzone state_building  \\\n",
       "0          5.0         0.0                 0             0        MISSING   \n",
       "1          0.0         0.0                 0             0        MISSING   \n",
       "2          NaN         0.0                 0             1         AS_NEW   \n",
       "3          0.0         0.0                 0             1        MISSING   \n",
       "4         20.0       142.0                 0             0         AS_NEW   \n",
       "\n",
       "   primary_energy_consumption_sqm heating_type  fl_double_glazing  \n",
       "0                           231.0          GAS                  1  \n",
       "1                           221.0      MISSING                  1  \n",
       "2                             NaN          GAS                  0  \n",
       "3                            99.0      MISSING                  0  \n",
       "4                            19.0          GAS                  0  "
      ]
     },
     "execution_count": 10,
     "metadata": {},
     "output_type": "execute_result"
    }
   ],
   "source": [
    "df.head()"
   ]
  },
  {
   "cell_type": "code",
   "execution_count": 11,
   "metadata": {},
   "outputs": [
    {
     "name": "stdout",
     "output_type": "stream",
     "text": [
      "['construction_year', 'total_area_sqm', 'terrace_sqm', 'garden_sqm', 'primary_energy_consumption_sqm']\n"
     ]
    }
   ],
   "source": [
    "cols_with_nans = [x for x in df if df[x].isnull().sum()>0]\n",
    "df[cols_with_nans].isnull().sum()\n",
    "print (cols_with_nans)"
   ]
  },
  {
   "cell_type": "code",
   "execution_count": 12,
   "metadata": {},
   "outputs": [
    {
     "name": "stdout",
     "output_type": "stream",
     "text": [
      "Count NaN values of particular column:\n",
      " construction_year                 33391\n",
      "total_area_sqm                     7615\n",
      "terrace_sqm                       13140\n",
      "garden_sqm                         2939\n",
      "primary_energy_consumption_sqm    26567\n",
      "dtype: int64\n"
     ]
    }
   ],
   "source": [
    "selected_columns = ['construction_year', 'total_area_sqm', 'terrace_sqm', 'garden_sqm', 'primary_energy_consumption_sqm']\n",
    "nan_count = df[selected_columns].isna().sum()\n",
    "print(\"Count NaN values of particular column:\\n\", nan_count)"
   ]
  },
  {
   "cell_type": "code",
   "execution_count": 13,
   "metadata": {},
   "outputs": [],
   "source": [
    "import pandas as pd\n",
    "from sklearn.impute import SimpleImputer\n",
    "\n",
    "numeric_features = df.select_dtypes(include=['int64', 'float64']).columns\n",
    "\n",
    "# Impute missing values for numerical columns\n",
    "numeric_imputer = SimpleImputer(strategy='median')\n",
    "df[numeric_features] = numeric_imputer.fit_transform(df[numeric_features])\n",
    "\n",
    "#imputed_file_path = 'properties_imputed.csv'\n",
    "#df.to_csv(imputed_file_path, index=False)"
   ]
  },
  {
   "cell_type": "code",
   "execution_count": 14,
   "metadata": {},
   "outputs": [
    {
     "name": "stdout",
     "output_type": "stream",
     "text": [
      "Data after filling NaNs with 'Unknown'\n",
      "  property_type            region equipped_kitchen state_building heating_type\n",
      "0     APARTMENT          Flanders        INSTALLED        MISSING          GAS\n",
      "1         HOUSE          Flanders          MISSING        MISSING      MISSING\n",
      "2     APARTMENT  Brussels-Capital        INSTALLED         AS_NEW          GAS\n",
      "3         HOUSE          Flanders          MISSING        MISSING      MISSING\n",
      "4     APARTMENT          Wallonia   HYPER_EQUIPPED         AS_NEW          GAS\n"
     ]
    }
   ],
   "source": [
    "# List of categorical columns with NaNs that you want to fill with 'Unknown'\n",
    "categorical_features = df.select_dtypes(include=['object']).columns\n",
    "\n",
    "for col in categorical_features:\n",
    "    df[col] = df[col].fillna('Unknown')\n",
    "\n",
    "print(\"Data after filling NaNs with 'Unknown'\")\n",
    "print(df[categorical_features].head())"
   ]
  },
  {
   "cell_type": "code",
   "execution_count": 15,
   "metadata": {},
   "outputs": [
    {
     "data": {
      "text/plain": [
       "Index(['price', 'zip_code', 'construction_year', 'total_area_sqm',\n",
       "       'nbr_bedrooms', 'fl_furnished', 'fl_open_fire', 'terrace_sqm',\n",
       "       'garden_sqm', 'fl_swimming_pool', 'fl_floodzone',\n",
       "       'primary_energy_consumption_sqm', 'fl_double_glazing',\n",
       "       'property_type_APARTMENT', 'property_type_HOUSE',\n",
       "       'region_Brussels-Capital', 'region_Flanders', 'region_MISSING',\n",
       "       'region_Wallonia', 'equipped_kitchen_HYPER_EQUIPPED',\n",
       "       'equipped_kitchen_INSTALLED', 'equipped_kitchen_MISSING',\n",
       "       'equipped_kitchen_NOT_INSTALLED', 'equipped_kitchen_SEMI_EQUIPPED',\n",
       "       'equipped_kitchen_USA_HYPER_EQUIPPED', 'equipped_kitchen_USA_INSTALLED',\n",
       "       'equipped_kitchen_USA_SEMI_EQUIPPED',\n",
       "       'equipped_kitchen_USA_UNINSTALLED', 'state_building_AS_NEW',\n",
       "       'state_building_GOOD', 'state_building_JUST_RENOVATED',\n",
       "       'state_building_MISSING', 'state_building_TO_BE_DONE_UP',\n",
       "       'state_building_TO_RENOVATE', 'state_building_TO_RESTORE',\n",
       "       'heating_type_CARBON', 'heating_type_ELECTRIC', 'heating_type_FUELOIL',\n",
       "       'heating_type_GAS', 'heating_type_MISSING', 'heating_type_PELLET',\n",
       "       'heating_type_SOLAR', 'heating_type_WOOD'],\n",
       "      dtype='object')"
      ]
     },
     "execution_count": 15,
     "metadata": {},
     "output_type": "execute_result"
    }
   ],
   "source": [
    "from sklearn.preprocessing import OneHotEncoder\n",
    "\n",
    "encoded_df = df[['property_type','region','equipped_kitchen','state_building','heating_type']]\n",
    "# create encoder object\n",
    "encoder = OneHotEncoder(sparse_output=False).set_output(transform=\"pandas\")\n",
    "\n",
    "new_columns = encoder.fit_transform(encoded_df)\n",
    "df = pd.concat([df, new_columns], axis=1).drop(columns=['property_type','region','equipped_kitchen','state_building','heating_type'])\n",
    "df.columns"
   ]
  },
  {
   "cell_type": "code",
   "execution_count": 16,
   "metadata": {},
   "outputs": [
    {
     "data": {
      "text/plain": [
       "price                                  float64\n",
       "zip_code                               float64\n",
       "construction_year                      float64\n",
       "total_area_sqm                         float64\n",
       "nbr_bedrooms                           float64\n",
       "fl_furnished                           float64\n",
       "fl_open_fire                           float64\n",
       "terrace_sqm                            float64\n",
       "garden_sqm                             float64\n",
       "fl_swimming_pool                       float64\n",
       "fl_floodzone                           float64\n",
       "primary_energy_consumption_sqm         float64\n",
       "fl_double_glazing                      float64\n",
       "property_type_APARTMENT                float64\n",
       "property_type_HOUSE                    float64\n",
       "region_Brussels-Capital                float64\n",
       "region_Flanders                        float64\n",
       "region_MISSING                         float64\n",
       "region_Wallonia                        float64\n",
       "equipped_kitchen_HYPER_EQUIPPED        float64\n",
       "equipped_kitchen_INSTALLED             float64\n",
       "equipped_kitchen_MISSING               float64\n",
       "equipped_kitchen_NOT_INSTALLED         float64\n",
       "equipped_kitchen_SEMI_EQUIPPED         float64\n",
       "equipped_kitchen_USA_HYPER_EQUIPPED    float64\n",
       "equipped_kitchen_USA_INSTALLED         float64\n",
       "equipped_kitchen_USA_SEMI_EQUIPPED     float64\n",
       "equipped_kitchen_USA_UNINSTALLED       float64\n",
       "state_building_AS_NEW                  float64\n",
       "state_building_GOOD                    float64\n",
       "state_building_JUST_RENOVATED          float64\n",
       "state_building_MISSING                 float64\n",
       "state_building_TO_BE_DONE_UP           float64\n",
       "state_building_TO_RENOVATE             float64\n",
       "state_building_TO_RESTORE              float64\n",
       "heating_type_CARBON                    float64\n",
       "heating_type_ELECTRIC                  float64\n",
       "heating_type_FUELOIL                   float64\n",
       "heating_type_GAS                       float64\n",
       "heating_type_MISSING                   float64\n",
       "heating_type_PELLET                    float64\n",
       "heating_type_SOLAR                     float64\n",
       "heating_type_WOOD                      float64\n",
       "dtype: object"
      ]
     },
     "execution_count": 16,
     "metadata": {},
     "output_type": "execute_result"
    }
   ],
   "source": [
    "df.dtypes"
   ]
  },
  {
   "cell_type": "code",
   "execution_count": 17,
   "metadata": {},
   "outputs": [
    {
     "name": "stdout",
     "output_type": "stream",
     "text": [
      "      price  zip_code  construction_year  total_area_sqm  nbr_bedrooms  \\\n",
      "0  225000.0 -1.029659          -0.817359       -0.152031     -0.415630   \n",
      "1  449000.0  1.344346           0.170540       -0.083586     -0.415630   \n",
      "2  335000.0 -1.355731           0.170540       -0.045561      0.112304   \n",
      "3  501000.0 -0.954795           1.126571        0.068514      0.112304   \n",
      "4  982700.0 -1.242604           1.062836        0.022884     -0.415630   \n",
      "\n",
      "   fl_furnished  fl_open_fire  terrace_sqm  garden_sqm  fl_swimming_pool  ...  \\\n",
      "0      -0.13839     -0.452424    -0.133736   -0.081622         -0.137992  ...   \n",
      "1      -0.13839     -0.452424    -0.274903   -0.081622         -0.137992  ...   \n",
      "2      -0.13839     -0.452424    -0.246670   -0.081622         -0.137992  ...   \n",
      "3      -0.13839     -0.452424    -0.274903   -0.081622         -0.137992  ...   \n",
      "4      -0.13839     -0.452424     0.289767    0.022664         -0.137992  ...   \n",
      "\n",
      "   state_building_TO_RENOVATE  state_building_TO_RESTORE  heating_type_CARBON  \\\n",
      "0                   -0.274274                  -0.066855            -0.032566   \n",
      "1                   -0.274274                  -0.066855            -0.032566   \n",
      "2                   -0.274274                  -0.066855            -0.032566   \n",
      "3                   -0.274274                  -0.066855            -0.032566   \n",
      "4                   -0.274274                  -0.066855            -0.032566   \n",
      "\n",
      "   heating_type_ELECTRIC  heating_type_FUELOIL  heating_type_GAS  \\\n",
      "0               -0.22443             -0.337241          1.170031   \n",
      "1               -0.22443             -0.337241         -0.854678   \n",
      "2               -0.22443             -0.337241          1.170031   \n",
      "3               -0.22443             -0.337241         -0.854678   \n",
      "4               -0.22443             -0.337241          1.170031   \n",
      "\n",
      "   heating_type_MISSING  heating_type_PELLET  heating_type_SOLAR  \\\n",
      "0             -0.844719            -0.081561           -0.042163   \n",
      "1              1.183826            -0.081561           -0.042163   \n",
      "2             -0.844719            -0.081561           -0.042163   \n",
      "3              1.183826            -0.081561           -0.042163   \n",
      "4             -0.844719            -0.081561           -0.042163   \n",
      "\n",
      "   heating_type_WOOD  \n",
      "0          -0.044165  \n",
      "1          -0.044165  \n",
      "2          -0.044165  \n",
      "3          -0.044165  \n",
      "4          -0.044165  \n",
      "\n",
      "[5 rows x 43 columns]\n"
     ]
    }
   ],
   "source": [
    "from sklearn.preprocessing import StandardScaler\n",
    "import pandas as pd\n",
    "\n",
    "df_features = df.drop(columns=['price'])\n",
    "columns = df_features.columns\n",
    "\n",
    "# Initialize the scaler\n",
    "scaler = StandardScaler()\n",
    "\n",
    "# Apply the scaler to the numeric features\n",
    "df[columns] = scaler.fit_transform(df[columns])\n",
    "print(df.head())"
   ]
  },
  {
   "cell_type": "code",
   "execution_count": 18,
   "metadata": {},
   "outputs": [
    {
     "name": "stdout",
     "output_type": "stream",
     "text": [
      "X_train shape: (60408, 42)\n",
      "X_test shape: (15103, 42)\n",
      "y_train shape: (60408,)\n",
      "y_test shape: (15103,)\n"
     ]
    }
   ],
   "source": [
    "from sklearn.model_selection import train_test_split\n",
    "\n",
    "X = df.drop(columns=['price'])  #  'price' is the target variable\n",
    "\n",
    "y = df['price']\n",
    "\n",
    "# Split the dataset into training and testing sets\n",
    "X_train, X_test, y_train, y_test = train_test_split(X, y, test_size=0.2, random_state=42)\n",
    "\n",
    "# Display the shapes of the training and testing sets to confirm\n",
    "print(f\"X_train shape: {X_train.shape}\")\n",
    "print(f\"X_test shape: {X_test.shape}\")\n",
    "print(f\"y_train shape: {y_train.shape}\")\n",
    "print(f\"y_test shape: {y_test.shape}\")"
   ]
  },
  {
   "cell_type": "code",
   "execution_count": 19,
   "metadata": {},
   "outputs": [
    {
     "name": "stdout",
     "output_type": "stream",
     "text": [
      "Intercept: 423188.593474354\n",
      "Coefficient: 6534.861589308864\n",
      "Score of the model on the training data is: 0.25\n"
     ]
    }
   ],
   "source": [
    "from sklearn.linear_model import LinearRegression\n",
    "\n",
    "# Instantiate the LinearRegression class\n",
    "regressor = LinearRegression()\n",
    "\n",
    "# Train the model with X_train and y_train\n",
    "regressor.fit(X_train, y_train)\n",
    "\n",
    "print(f\"Intercept: {regressor.intercept_}\")\n",
    "print(f\"Coefficient: {regressor.coef_[0]}\")\n",
    "\n",
    "\n",
    "train_score = regressor.score(X_train, y_train)\n",
    "\n",
    "print(f\"Score of the model on the training data is: {train_score:.2f}\")\n"
   ]
  },
  {
   "cell_type": "code",
   "execution_count": 20,
   "metadata": {},
   "outputs": [
    {
     "name": "stdout",
     "output_type": "stream",
     "text": [
      "Score of the model on the test data is: 0.21\n"
     ]
    }
   ],
   "source": [
    "y_pred = regressor.predict(X_test)\n",
    "\n",
    "test_score = regressor.score(X_test, y_test)\n",
    "\n",
    "print(f\"Score of the model on the test data is: {test_score:.2f}\")"
   ]
  },
  {
   "cell_type": "code",
   "execution_count": 21,
   "metadata": {},
   "outputs": [],
   "source": [
    "import pandas as pd\n",
    "from sklearn.model_selection import train_test_split\n",
    "from sklearn.tree import DecisionTreeRegressor\n",
    "#from sklearn.metrics import  r2_score"
   ]
  },
  {
   "cell_type": "code",
   "execution_count": 22,
   "metadata": {},
   "outputs": [
    {
     "name": "stdout",
     "output_type": "stream",
     "text": [
      "Train Score : 0.9992876988865567\n",
      "Test Score: 0.391025394406343\n"
     ]
    }
   ],
   "source": [
    "X = df.drop(columns=['price'])\n",
    "y = df['price']\n",
    "\n",
    "X_train, X_test, y_train, y_test = train_test_split(X, y, test_size=0.2, random_state=42)\n",
    "\n",
    "regressor = DecisionTreeRegressor() # max_depth=5, random_state=42\n",
    "\n",
    "regressor.fit(X_train, y_train)\n",
    "# Train the model on the training data\n",
    "train_score = regressor.score(X_train, y_train)\n",
    "\n",
    "print(\"Train Score :\", train_score)\n",
    "\n",
    "y_pred = regressor.predict(X_test)\n",
    "\n",
    "test_score = regressor.score(X_test, y_test)\n",
    "\n",
    "print(\"Test Score:\", test_score)\n",
    "\n"
   ]
  },
  {
   "cell_type": "code",
   "execution_count": 23,
   "metadata": {},
   "outputs": [],
   "source": [
    "import pandas as pd\n",
    "from sklearn.model_selection import train_test_split\n",
    "from sklearn.ensemble import RandomForestRegressor\n",
    "from sklearn.metrics import mean_squared_error, r2_score\n",
    "import matplotlib.pyplot as plt\n",
    "\n"
   ]
  },
  {
   "cell_type": "code",
   "execution_count": 24,
   "metadata": {},
   "outputs": [
    {
     "name": "stdout",
     "output_type": "stream",
     "text": [
      "Train Score : 0.951790818097604\n",
      "Test Score: 0.7064064822033127\n",
      "Mean Squared Error: 51082106130.20579\n",
      "R^2 Score: 0.7064064822033127\n"
     ]
    }
   ],
   "source": [
    "X = df.drop(columns=['price'])\n",
    "y = df['price']\n",
    "\n",
    "X_train, X_test, y_train, y_test = train_test_split(X, y, test_size=0.2, random_state=42)\n",
    "\n",
    "forest_regressor = RandomForestRegressor() # n_estimators=100, max_depth=10, random_state=42\n",
    "\n",
    "# Train the model on the training data\n",
    "forest_regressor.fit(X_train, y_train)\n",
    "\n",
    "train_score = forest_regressor.score(X_train, y_train)\n",
    "\n",
    "print(\"Train Score :\", train_score)\n",
    "\n",
    "y_pred = forest_regressor.predict(X_test)\n",
    "\n",
    "test_score = forest_regressor.score(X_test, y_test)\n",
    "\n",
    "print(\"Test Score:\", test_score)\n",
    "\n",
    "mse = mean_squared_error(y_test, y_pred)\n",
    "r2 = r2_score(y_test, y_pred)\n",
    "\n",
    "print(\"Mean Squared Error:\", mse)\n",
    "print(\"R^2 Score:\", r2)\n"
   ]
  },
  {
   "cell_type": "code",
   "execution_count": 25,
   "metadata": {},
   "outputs": [
    {
     "data": {
      "image/png": "[encoded data removed]",
      "text/plain": [
       "<Figure size 800x600 with 1 Axes>"
      ]
     },
     "metadata": {},
     "output_type": "display_data"
    }
   ],
   "source": [
    "plt.figure(figsize=(8, 6))\n",
    "plt.scatter(y_test, y_pred, alpha=0.5, color='blue')\n",
    "plt.plot([y_test.min(), y_test.max()], [y_test.min(), y_test.max()], 'r--', lw=2)\n",
    "plt.xlabel(\"Actual Values\")\n",
    "plt.ylabel(\"Predicted Values\")\n",
    "plt.title(\"Actual vs. Predicted Values - Random Forest Regressor\")\n",
    "plt.show()"
   ]
  },
  {
   "cell_type": "code",
   "execution_count": 26,
   "metadata": {},
   "outputs": [],
   "source": [
    "\n",
    "import pandas as pd\n",
    "from sklearn.model_selection import train_test_split\n",
    "from sklearn.linear_model import ElasticNet\n"
   ]
  },
  {
   "cell_type": "code",
   "execution_count": 27,
   "metadata": {},
   "outputs": [
    {
     "name": "stdout",
     "output_type": "stream",
     "text": [
      "Train Score : 0.24754173118024791\n",
      "Test Score: 0.2233234647978951\n"
     ]
    }
   ],
   "source": [
    "X = df.drop(columns=['price'])\n",
    "y = df['price']\n",
    "\n",
    "X_train, X_test, y_train, y_test = train_test_split(X, y, test_size=0.2, random_state=42)\n",
    "\n",
    "ElasticNet_Regressor = ElasticNet(alpha=0.1, l1_ratio=0.5)\n",
    "\n",
    "# Train the model on the training data\n",
    "\n",
    "ElasticNet_Regressor.fit(X_train, y_train)\n",
    "\n",
    "train_score = ElasticNet_Regressor.score(X_train, y_train)\n",
    "\n",
    "print(\"Train Score :\", train_score)\n",
    "\n",
    "y_pred = ElasticNet_Regressor.predict(X_test)\n",
    "\n",
    "test_score = ElasticNet_Regressor.score(X_test, y_test)\n",
    "\n",
    "print(\"Test Score:\", test_score)"
   ]
  },
  {
   "cell_type": "code",
   "execution_count": 28,
   "metadata": {},
   "outputs": [],
   "source": [
    "import pandas as pd\n",
    "from sklearn.model_selection import train_test_split\n",
    "from sklearn.linear_model import BayesianRidge"
   ]
  },
  {
   "cell_type": "code",
   "execution_count": 29,
   "metadata": {},
   "outputs": [
    {
     "name": "stdout",
     "output_type": "stream",
     "text": [
      "Train Score : 0.24807745089121358\n",
      "Test Score: 0.21380732032889116\n"
     ]
    }
   ],
   "source": [
    "X = df.drop(columns=['price'])\n",
    "y = df['price']\n",
    "\n",
    "X_train, X_test, y_train, y_test = train_test_split(X, y, test_size=0.2, random_state=42)\n",
    "\n",
    "Bayesian_model = BayesianRidge()\n",
    "\n",
    "# Train the model on the training data\n",
    "\n",
    "Bayesian_model.fit(X_train, y_train)\n",
    "\n",
    "train_score = Bayesian_model.score(X_train, y_train)\n",
    "\n",
    "print(\"Train Score :\", train_score)\n",
    "\n",
    "y_pred = Bayesian_model.predict(X_test)\n",
    "\n",
    "test_score = Bayesian_model.score(X_test, y_test)\n",
    "\n",
    "print(\"Test Score:\", test_score)"
   ]
  },
  {
   "cell_type": "code",
   "execution_count": 30,
   "metadata": {},
   "outputs": [],
   "source": [
    "import xgboost as xgb\n",
    "from sklearn.model_selection import train_test_split\n",
    "from sklearn.metrics import mean_squared_error, r2_score\n",
    "import matplotlib.pyplot as plt"
   ]
  },
  {
   "cell_type": "code",
   "execution_count": 31,
   "metadata": {},
   "outputs": [
    {
     "name": "stdout",
     "output_type": "stream",
     "text": [
      "Train Score : 0.9991527119822692\n",
      "Test Score: 0.6268829651898166\n",
      "Mean Squared Error: 64918340548.51373\n",
      "R^2 Score: 0.6268829651898166\n"
     ]
    }
   ],
   "source": [
    "X = df.drop(columns=['price'])\n",
    "y = df['price']\n",
    "\n",
    "X_train, X_test, y_train, y_test = train_test_split(X, y, test_size=0.2, random_state=42)\n",
    "\n",
    "\n",
    "xgb_regressor = xgb.XGBRegressor(n_estimators=100, max_depth=15, learning_rate=0.5,random_state=42) # n_estimators=100, max_depth=6, learning_rate=0.1, random_state=42\n",
    "                                                                                                    \n",
    "# Train the model\n",
    "xgb_regressor.fit(X_train, y_train)\n",
    "\n",
    "train_score = xgb_regressor.score(X_train, y_train)\n",
    "print(\"Train Score :\", train_score)\n",
    "\n",
    "y_pred = xgb_regressor.predict(X_test)\n",
    "\n",
    "test_score = xgb_regressor.score(X_test, y_test)\n",
    "print(\"Test Score:\", test_score)\n",
    "\n",
    "\n",
    "mse = mean_squared_error(y_test, y_pred)\n",
    "r2 = r2_score(y_test, y_pred)\n",
    "\n",
    "print(\"Mean Squared Error:\", mse)\n",
    "print(\"R^2 Score:\", r2)\n"
   ]
  },
  {
   "cell_type": "code",
   "execution_count": 32,
   "metadata": {},
   "outputs": [
    {
     "data": {
      "image/png": "[encoded data removed]",
      "text/plain": [
       "<Figure size 800x600 with 1 Axes>"
      ]
     },
     "metadata": {},
     "output_type": "display_data"
    }
   ],
   "source": [
    "plt.figure(figsize=(8, 6))\n",
    "plt.scatter(y_test, y_pred, alpha=0.5, color='blue', label='Predicted vs Actual')\n",
    "plt.plot([y_test.min(), y_test.max()], [y_test.min(), y_test.max()], 'r--', lw=2, label='Ideal Fit (y=x)')\n",
    "plt.xlabel(\"Actual Values\")\n",
    "plt.ylabel(\"Predicted Values\")\n",
    "plt.title(\"Actual vs. Predicted Values - XGBoost Regressor\")\n",
    "plt.legend()\n",
    "plt.show()"
   ]
  }
 ],
 "metadata": {
  "kernelspec": {
   "display_name": "immowebml",
   "language": "python",
   "name": "python3"
  },
  "language_info": {
   "codemirror_mode": {
    "name": "ipython",
    "version": 3
   },
   "file_extension": ".py",
   "mimetype": "text/x-python",
   "name": "python",
   "nbconvert_exporter": "python",
   "pygments_lexer": "ipython3",
   "version": "3.9.0"
  }
 },
 "nbformat": 4,
 "nbformat_minor": 2
}
